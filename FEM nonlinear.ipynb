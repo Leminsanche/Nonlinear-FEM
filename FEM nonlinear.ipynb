{
 "cells": [
  {
   "cell_type": "code",
   "execution_count": 295,
   "id": "789f9932",
   "metadata": {},
   "outputs": [],
   "source": [
    "import numpy as np\n",
    "import matplotlib.pyplot as plt\n",
    "import pyvista as pv\n",
    "\n",
    "#### Codigo para estructura de barras no lineal considerando un grado de libertad el\n",
    "#### Los vectores se escriben como matriz columna [[x1],[x2]]\n",
    "\n",
    "class Barra_nolineal:\n",
    "    #X1 y X2 coordenada material, estado inicial\n",
    "    def __init__(self,X1,X2,A,mu,landa):\n",
    "        \n",
    "        self.area = A \n",
    "        self.mu = mu\n",
    "        self.landa = landa\n",
    "        self.nodos = np.array([[X1],[X2]])\n",
    "        self.largo = abs(X2)-abs(X1)\n",
    "        self.D = self.landa + 2* self.mu\n",
    "        \n",
    "    def fun_N(self, xhi):\n",
    "        N1 = (1-xhi) / 2\n",
    "        N2 = (1+xhi) / 2\n",
    "        N = np.array([N1,N2])\n",
    "        return N\n",
    "        \n",
    "    def der_N_xhi(self):\n",
    "        dN1_xhi = -1/2 \n",
    "        dN2_xhi = 1/2\n",
    "        dN_xhi = np.array([-1/2,1/2])\n",
    "        return dN_xhi\n",
    "    \n",
    "    def der_X_xhi(self): #Estado deformado\n",
    "        l = self.largo\n",
    "        der = np.matmul(self.nodos.T,self.der_N_xhi().T) \n",
    "        # deberia ser igual a l/2\n",
    "        return der[0]\n",
    "    \n",
    "    def der_N_X(self): #En X halamos de la coordenada material \n",
    "        dXdxhi = self.der_X_xhi()\n",
    "        out = (dXdxhi**-1) * self.der_N_xhi()\n",
    "        return out\n",
    "    \n",
    "    \n",
    "    def der_x_xhi(self,x1,x2):\n",
    "        nodos_x = np.array([[x1],[x2]])\n",
    "        l = self.largo\n",
    "        der = np.matmul(nodos_x.T,self.der_N_xhi().T) \n",
    "        # deberia ser igual a l/2\n",
    "        return der[0]\n",
    "    \n",
    "    def der_N_x(self,x1,x2): #En x halamos de la coordenada deformada \n",
    "        dxdxhi = self.der_x_xhi(x1,x2)\n",
    "        out = (dxdxhi**-1) * self.der_N_xhi()\n",
    "        return out\n",
    "    \n",
    "\n",
    "    def F(self,x1,x2):\n",
    "        suma = 0 #Numero de coordenadas y numero de nodos del elemento\n",
    "        nodos_x = np.array([[x1],[x2]])\n",
    "        it = 0\n",
    "        for x in nodos_x:\n",
    "            suma = suma + x*self.der_N_X()[it]\n",
    "            it = it+1\n",
    "        return suma[0]\n",
    "        \n",
    "    def sigma(self,x1,x2):\n",
    "        #Material neo-hookeano\n",
    "        \n",
    "        mu = self.mu\n",
    "        landa = self.landa\n",
    "        \n",
    "        F = self.F(x1,x2)\n",
    "        b = F**2\n",
    "        \n",
    "        s = mu*(b - 1)\n",
    "        \n",
    "        return s\n",
    "    \n",
    "    def K_c(self,x1,x2):\n",
    "        \n",
    "        l = abs(x2 - x1)\n",
    "        #Puntos de Gauss\n",
    "        x = [-(1/3)**0.5 , (1/3)**0.5 ]\n",
    "        #Pesos\n",
    "        w = [1 , 1]\n",
    "        \n",
    "        \n",
    "        B = self.der_N_x(x1,x2)\n",
    "        #print(B)\n",
    "        D = self.D\n",
    "        A = self.area\n",
    "        f = lambda x: np.outer(B.T,B) * D * A * l/2\n",
    "        k  = np.zeros((2,2))\n",
    "        \n",
    "        it = 0\n",
    "        for xi in x:\n",
    "            k = k + f(xi) * w[it]\n",
    "            it = it +1\n",
    "            \n",
    "        return k\n",
    "        \n",
    "        \n",
    "    "
   ]
  },
  {
   "cell_type": "code",
   "execution_count": 296,
   "id": "ad712f5f",
   "metadata": {},
   "outputs": [],
   "source": [
    "X1 = 0\n",
    "X2 = 1\n",
    "x1 = X1\n",
    "x2 = X2 #4\n",
    "mu = 1/4\n",
    "landa = 1/2\n",
    "A = 1\n",
    "barra1 = Barra_nolineal(X1,X2,A,mu,landa)"
   ]
  },
  {
   "cell_type": "code",
   "execution_count": 299,
   "id": "b71e6b54",
   "metadata": {},
   "outputs": [
    {
     "data": {
      "text/plain": [
       "array([[ 1., -1.],\n",
       "       [-1.,  1.]])"
      ]
     },
     "execution_count": 299,
     "metadata": {},
     "output_type": "execute_result"
    }
   ],
   "source": [
    "barra1.K_c(x1,x2)"
   ]
  },
  {
   "cell_type": "code",
   "execution_count": 204,
   "id": "6aa6437a",
   "metadata": {},
   "outputs": [],
   "source": [
    "## MAIN code\n",
    "\n",
    "#input\n",
    "\n",
    "element = [1,2]\n",
    "nodos = np.array([[0],[2]])\n",
    "\n",
    "F_ext  = np.arange(0,11,1)\n",
    "\n",
    "for f in F_ext:\n",
    "    \n",
    "    \n",
    "    \n",
    "\n"
   ]
  },
  {
   "cell_type": "code",
   "execution_count": 205,
   "id": "460e2c62",
   "metadata": {},
   "outputs": [
    {
     "data": {
      "text/plain": [
       "15.0"
      ]
     },
     "execution_count": 205,
     "metadata": {},
     "output_type": "execute_result"
    }
   ],
   "source": [
    "barra1.sigma(x1,x2)"
   ]
  },
  {
   "cell_type": "code",
   "execution_count": 208,
   "id": "a8fb1421",
   "metadata": {},
   "outputs": [],
   "source": [
    "f = lambda x: 5"
   ]
  },
  {
   "cell_type": "code",
   "execution_count": 273,
   "id": "4d766e7c",
   "metadata": {},
   "outputs": [],
   "source": [
    "B = np.array([-1,1])\n",
    "BT = np.array(([[-1],[1]]))"
   ]
  },
  {
   "cell_type": "code",
   "execution_count": 279,
   "id": "16f8d49e",
   "metadata": {},
   "outputs": [
    {
     "data": {
      "text/plain": [
       "array([[ 1, -1],\n",
       "       [-1,  1]])"
      ]
     },
     "execution_count": 279,
     "metadata": {},
     "output_type": "execute_result"
    }
   ],
   "source": [
    "np.outer(BT,B)"
   ]
  },
  {
   "cell_type": "code",
   "execution_count": 280,
   "id": "a8783dc8",
   "metadata": {},
   "outputs": [
    {
     "data": {
      "text/plain": [
       "array([[ 1, -1],\n",
       "       [-1,  1]])"
      ]
     },
     "execution_count": 280,
     "metadata": {},
     "output_type": "execute_result"
    }
   ],
   "source": [
    "np.outer(B.T,B)"
   ]
  },
  {
   "cell_type": "code",
   "execution_count": 274,
   "id": "895028eb",
   "metadata": {},
   "outputs": [
    {
     "data": {
      "text/plain": [
       "array([[-1],\n",
       "       [ 1]])"
      ]
     },
     "execution_count": 274,
     "metadata": {},
     "output_type": "execute_result"
    }
   ],
   "source": [
    "BT"
   ]
  },
  {
   "cell_type": "code",
   "execution_count": 267,
   "id": "1974b954",
   "metadata": {},
   "outputs": [
    {
     "data": {
      "text/plain": [
       "array([-1,  1])"
      ]
     },
     "execution_count": 267,
     "metadata": {},
     "output_type": "execute_result"
    }
   ],
   "source": []
  },
  {
   "cell_type": "code",
   "execution_count": null,
   "id": "e78f31b2",
   "metadata": {},
   "outputs": [],
   "source": []
  }
 ],
 "metadata": {
  "kernelspec": {
   "display_name": "Python 3",
   "language": "python",
   "name": "python3"
  },
  "language_info": {
   "codemirror_mode": {
    "name": "ipython",
    "version": 3
   },
   "file_extension": ".py",
   "mimetype": "text/x-python",
   "name": "python",
   "nbconvert_exporter": "python",
   "pygments_lexer": "ipython3",
   "version": "3.8.8"
  }
 },
 "nbformat": 4,
 "nbformat_minor": 5
}
